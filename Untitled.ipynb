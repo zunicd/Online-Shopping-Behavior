{
 "cells": [
  {
   "cell_type": "markdown",
   "id": "85f56c36-01cd-485d-80a7-aa4aee31f077",
   "metadata": {},
   "source": [
    "From [Link](https://softhints.com/display-two-pandas-dataframes-side-by-side-jupyter-notebook/)"
   ]
  },
  {
   "cell_type": "code",
   "execution_count": 1,
   "id": "722f7014-3bd3-4c32-8f88-e32999abf3ce",
   "metadata": {
    "execution": {
     "iopub.execute_input": "2022-11-05T23:40:52.919354Z",
     "iopub.status.busy": "2022-11-05T23:40:52.919002Z",
     "iopub.status.idle": "2022-11-05T23:40:53.786268Z",
     "shell.execute_reply": "2022-11-05T23:40:53.785163Z",
     "shell.execute_reply.started": "2022-11-05T23:40:52.919302Z"
    }
   },
   "outputs": [],
   "source": [
    "import pandas as pd"
   ]
  },
  {
   "cell_type": "code",
   "execution_count": 2,
   "id": "742530e9-dac6-4d0c-9cf3-34096cb7d4ea",
   "metadata": {
    "execution": {
     "iopub.execute_input": "2022-11-05T23:40:54.773373Z",
     "iopub.status.busy": "2022-11-05T23:40:54.772921Z",
     "iopub.status.idle": "2022-11-05T23:40:54.788647Z",
     "shell.execute_reply": "2022-11-05T23:40:54.787523Z",
     "shell.execute_reply.started": "2022-11-05T23:40:54.773344Z"
    }
   },
   "outputs": [],
   "source": [
    "df1 = pd.DataFrame({'lkey': ['foo', 'bar', 'baz'],\n",
    "                    'value': [1, 2, 3]})\n",
    "\n",
    "df2 = pd.DataFrame({'rkey': ['foo', 'bar', 'baz'],\n",
    "                    'value': [5, 6, 7]})"
   ]
  },
  {
   "cell_type": "code",
   "execution_count": 3,
   "id": "2dbd3f9b-ed49-493d-811f-a4c727280dda",
   "metadata": {
    "execution": {
     "iopub.execute_input": "2022-11-05T23:41:23.078035Z",
     "iopub.status.busy": "2022-11-05T23:41:23.076442Z",
     "iopub.status.idle": "2022-11-05T23:41:23.109156Z",
     "shell.execute_reply": "2022-11-05T23:41:23.107831Z",
     "shell.execute_reply.started": "2022-11-05T23:41:23.077966Z"
    }
   },
   "outputs": [
    {
     "data": {
      "text/html": [
       "<div>\n",
       "<style scoped>\n",
       "    .dataframe tbody tr th:only-of-type {\n",
       "        vertical-align: middle;\n",
       "    }\n",
       "\n",
       "    .dataframe tbody tr th {\n",
       "        vertical-align: top;\n",
       "    }\n",
       "\n",
       "    .dataframe thead th {\n",
       "        text-align: right;\n",
       "    }\n",
       "</style>\n",
       "<table border=\"1\" class=\"dataframe\">\n",
       "  <thead>\n",
       "    <tr style=\"text-align: right;\">\n",
       "      <th></th>\n",
       "      <th>lkey</th>\n",
       "      <th>value</th>\n",
       "    </tr>\n",
       "  </thead>\n",
       "  <tbody>\n",
       "    <tr>\n",
       "      <th>0</th>\n",
       "      <td>foo</td>\n",
       "      <td>1</td>\n",
       "    </tr>\n",
       "    <tr>\n",
       "      <th>1</th>\n",
       "      <td>bar</td>\n",
       "      <td>2</td>\n",
       "    </tr>\n",
       "    <tr>\n",
       "      <th>2</th>\n",
       "      <td>baz</td>\n",
       "      <td>3</td>\n",
       "    </tr>\n",
       "  </tbody>\n",
       "</table>\n",
       "</div>"
      ],
      "text/plain": [
       "  lkey  value\n",
       "0  foo      1\n",
       "1  bar      2\n",
       "2  baz      3"
      ]
     },
     "execution_count": 3,
     "metadata": {},
     "output_type": "execute_result"
    }
   ],
   "source": [
    "df1"
   ]
  },
  {
   "cell_type": "code",
   "execution_count": 4,
   "id": "c952a9ba-fae4-4737-b04c-310225f95264",
   "metadata": {
    "execution": {
     "iopub.execute_input": "2022-11-05T23:41:29.084452Z",
     "iopub.status.busy": "2022-11-05T23:41:29.083721Z",
     "iopub.status.idle": "2022-11-05T23:41:29.091195Z",
     "shell.execute_reply": "2022-11-05T23:41:29.090220Z",
     "shell.execute_reply.started": "2022-11-05T23:41:29.084429Z"
    }
   },
   "outputs": [
    {
     "data": {
      "text/html": [
       "<div>\n",
       "<style scoped>\n",
       "    .dataframe tbody tr th:only-of-type {\n",
       "        vertical-align: middle;\n",
       "    }\n",
       "\n",
       "    .dataframe tbody tr th {\n",
       "        vertical-align: top;\n",
       "    }\n",
       "\n",
       "    .dataframe thead th {\n",
       "        text-align: right;\n",
       "    }\n",
       "</style>\n",
       "<table border=\"1\" class=\"dataframe\">\n",
       "  <thead>\n",
       "    <tr style=\"text-align: right;\">\n",
       "      <th></th>\n",
       "      <th>rkey</th>\n",
       "      <th>value</th>\n",
       "    </tr>\n",
       "  </thead>\n",
       "  <tbody>\n",
       "    <tr>\n",
       "      <th>0</th>\n",
       "      <td>foo</td>\n",
       "      <td>5</td>\n",
       "    </tr>\n",
       "    <tr>\n",
       "      <th>1</th>\n",
       "      <td>bar</td>\n",
       "      <td>6</td>\n",
       "    </tr>\n",
       "    <tr>\n",
       "      <th>2</th>\n",
       "      <td>baz</td>\n",
       "      <td>7</td>\n",
       "    </tr>\n",
       "  </tbody>\n",
       "</table>\n",
       "</div>"
      ],
      "text/plain": [
       "  rkey  value\n",
       "0  foo      5\n",
       "1  bar      6\n",
       "2  baz      7"
      ]
     },
     "execution_count": 4,
     "metadata": {},
     "output_type": "execute_result"
    }
   ],
   "source": [
    "df2 "
   ]
  },
  {
   "cell_type": "code",
   "execution_count": 5,
   "id": "695eb0ea-1231-46db-986d-286e33ffac08",
   "metadata": {
    "execution": {
     "iopub.execute_input": "2022-11-05T23:42:25.182374Z",
     "iopub.status.busy": "2022-11-05T23:42:25.182066Z",
     "iopub.status.idle": "2022-11-05T23:42:25.880083Z",
     "shell.execute_reply": "2022-11-05T23:42:25.878724Z",
     "shell.execute_reply.started": "2022-11-05T23:42:25.182353Z"
    }
   },
   "outputs": [
    {
     "data": {
      "text/html": [
       "<style type=\"text/css\">\n",
       "</style>\n",
       "<table id=\"T_3149d\" style='display:inline'>\n",
       "  <caption>df1</caption>\n",
       "  <thead>\n",
       "    <tr>\n",
       "      <th class=\"blank level0\" >&nbsp;</th>\n",
       "      <th id=\"T_3149d_level0_col0\" class=\"col_heading level0 col0\" >lkey</th>\n",
       "      <th id=\"T_3149d_level0_col1\" class=\"col_heading level0 col1\" >value</th>\n",
       "    </tr>\n",
       "  </thead>\n",
       "  <tbody>\n",
       "    <tr>\n",
       "      <th id=\"T_3149d_level0_row0\" class=\"row_heading level0 row0\" >0</th>\n",
       "      <td id=\"T_3149d_row0_col0\" class=\"data row0 col0\" >foo</td>\n",
       "      <td id=\"T_3149d_row0_col1\" class=\"data row0 col1\" >1</td>\n",
       "    </tr>\n",
       "    <tr>\n",
       "      <th id=\"T_3149d_level0_row1\" class=\"row_heading level0 row1\" >1</th>\n",
       "      <td id=\"T_3149d_row1_col0\" class=\"data row1 col0\" >bar</td>\n",
       "      <td id=\"T_3149d_row1_col1\" class=\"data row1 col1\" >2</td>\n",
       "    </tr>\n",
       "    <tr>\n",
       "      <th id=\"T_3149d_level0_row2\" class=\"row_heading level0 row2\" >2</th>\n",
       "      <td id=\"T_3149d_row2_col0\" class=\"data row2 col0\" >baz</td>\n",
       "      <td id=\"T_3149d_row2_col1\" class=\"data row2 col1\" >3</td>\n",
       "    </tr>\n",
       "  </tbody>\n",
       "</table>\n",
       "<style type=\"text/css\">\n",
       "</style>\n",
       "<table id=\"T_d1446\" style='display:inline'>\n",
       "  <caption>df2</caption>\n",
       "  <thead>\n",
       "    <tr>\n",
       "      <th class=\"blank level0\" >&nbsp;</th>\n",
       "      <th id=\"T_d1446_level0_col0\" class=\"col_heading level0 col0\" >rkey</th>\n",
       "      <th id=\"T_d1446_level0_col1\" class=\"col_heading level0 col1\" >value</th>\n",
       "    </tr>\n",
       "  </thead>\n",
       "  <tbody>\n",
       "    <tr>\n",
       "      <th id=\"T_d1446_level0_row0\" class=\"row_heading level0 row0\" >0</th>\n",
       "      <td id=\"T_d1446_row0_col0\" class=\"data row0 col0\" >foo</td>\n",
       "      <td id=\"T_d1446_row0_col1\" class=\"data row0 col1\" >5</td>\n",
       "    </tr>\n",
       "    <tr>\n",
       "      <th id=\"T_d1446_level0_row1\" class=\"row_heading level0 row1\" >1</th>\n",
       "      <td id=\"T_d1446_row1_col0\" class=\"data row1 col0\" >bar</td>\n",
       "      <td id=\"T_d1446_row1_col1\" class=\"data row1 col1\" >6</td>\n",
       "    </tr>\n",
       "    <tr>\n",
       "      <th id=\"T_d1446_level0_row2\" class=\"row_heading level0 row2\" >2</th>\n",
       "      <td id=\"T_d1446_row2_col0\" class=\"data row2 col0\" >baz</td>\n",
       "      <td id=\"T_d1446_row2_col1\" class=\"data row2 col1\" >7</td>\n",
       "    </tr>\n",
       "  </tbody>\n",
       "</table>\n"
      ]
     },
     "metadata": {},
     "output_type": "display_data"
    },
    {
     "data": {
      "text/html": [
       "<style type=\"text/css\">\n",
       "</style>\n",
       "<table id=\"T_3149d\" style='display:inline'>\n",
       "  <caption>df1</caption>\n",
       "  <thead>\n",
       "    <tr>\n",
       "      <th class=\"blank level0\" >&nbsp;</th>\n",
       "      <th id=\"T_3149d_level0_col0\" class=\"col_heading level0 col0\" >lkey</th>\n",
       "      <th id=\"T_3149d_level0_col1\" class=\"col_heading level0 col1\" >value</th>\n",
       "    </tr>\n",
       "  </thead>\n",
       "  <tbody>\n",
       "    <tr>\n",
       "      <th id=\"T_3149d_level0_row0\" class=\"row_heading level0 row0\" >0</th>\n",
       "      <td id=\"T_3149d_row0_col0\" class=\"data row0 col0\" >foo</td>\n",
       "      <td id=\"T_3149d_row0_col1\" class=\"data row0 col1\" >1</td>\n",
       "    </tr>\n",
       "    <tr>\n",
       "      <th id=\"T_3149d_level0_row1\" class=\"row_heading level0 row1\" >1</th>\n",
       "      <td id=\"T_3149d_row1_col0\" class=\"data row1 col0\" >bar</td>\n",
       "      <td id=\"T_3149d_row1_col1\" class=\"data row1 col1\" >2</td>\n",
       "    </tr>\n",
       "    <tr>\n",
       "      <th id=\"T_3149d_level0_row2\" class=\"row_heading level0 row2\" >2</th>\n",
       "      <td id=\"T_3149d_row2_col0\" class=\"data row2 col0\" >baz</td>\n",
       "      <td id=\"T_3149d_row2_col1\" class=\"data row2 col1\" >3</td>\n",
       "    </tr>\n",
       "  </tbody>\n",
       "</table>\n",
       "<style type=\"text/css\">\n",
       "</style>\n",
       "<table id=\"T_d1446\" style='display:inline'>\n",
       "  <caption>df2</caption>\n",
       "  <thead>\n",
       "    <tr>\n",
       "      <th class=\"blank level0\" >&nbsp;</th>\n",
       "      <th id=\"T_d1446_level0_col0\" class=\"col_heading level0 col0\" >rkey</th>\n",
       "      <th id=\"T_d1446_level0_col1\" class=\"col_heading level0 col1\" >value</th>\n",
       "    </tr>\n",
       "  </thead>\n",
       "  <tbody>\n",
       "    <tr>\n",
       "      <th id=\"T_d1446_level0_row0\" class=\"row_heading level0 row0\" >0</th>\n",
       "      <td id=\"T_d1446_row0_col0\" class=\"data row0 col0\" >foo</td>\n",
       "      <td id=\"T_d1446_row0_col1\" class=\"data row0 col1\" >5</td>\n",
       "    </tr>\n",
       "    <tr>\n",
       "      <th id=\"T_d1446_level0_row1\" class=\"row_heading level0 row1\" >1</th>\n",
       "      <td id=\"T_d1446_row1_col0\" class=\"data row1 col0\" >bar</td>\n",
       "      <td id=\"T_d1446_row1_col1\" class=\"data row1 col1\" >6</td>\n",
       "    </tr>\n",
       "    <tr>\n",
       "      <th id=\"T_d1446_level0_row2\" class=\"row_heading level0 row2\" >2</th>\n",
       "      <td id=\"T_d1446_row2_col0\" class=\"data row2 col0\" >baz</td>\n",
       "      <td id=\"T_d1446_row2_col1\" class=\"data row2 col1\" >7</td>\n",
       "    </tr>\n",
       "  </tbody>\n",
       "</table>\n",
       "<style type=\"text/css\">\n",
       "</style>\n",
       "<table id=\"T_cdc5a\" style='display:inline'>\n",
       "  <caption>df2_t</caption>\n",
       "  <thead>\n",
       "    <tr>\n",
       "      <th class=\"blank level0\" >&nbsp;</th>\n",
       "      <th id=\"T_cdc5a_level0_col0\" class=\"col_heading level0 col0\" >0</th>\n",
       "      <th id=\"T_cdc5a_level0_col1\" class=\"col_heading level0 col1\" >1</th>\n",
       "      <th id=\"T_cdc5a_level0_col2\" class=\"col_heading level0 col2\" >2</th>\n",
       "    </tr>\n",
       "  </thead>\n",
       "  <tbody>\n",
       "    <tr>\n",
       "      <th id=\"T_cdc5a_level0_row0\" class=\"row_heading level0 row0\" >rkey</th>\n",
       "      <td id=\"T_cdc5a_row0_col0\" class=\"data row0 col0\" >foo</td>\n",
       "      <td id=\"T_cdc5a_row0_col1\" class=\"data row0 col1\" >bar</td>\n",
       "      <td id=\"T_cdc5a_row0_col2\" class=\"data row0 col2\" >baz</td>\n",
       "    </tr>\n",
       "    <tr>\n",
       "      <th id=\"T_cdc5a_level0_row1\" class=\"row_heading level0 row1\" >value</th>\n",
       "      <td id=\"T_cdc5a_row1_col0\" class=\"data row1 col0\" >5</td>\n",
       "      <td id=\"T_cdc5a_row1_col1\" class=\"data row1 col1\" >6</td>\n",
       "      <td id=\"T_cdc5a_row1_col2\" class=\"data row1 col2\" >7</td>\n",
       "    </tr>\n",
       "  </tbody>\n",
       "</table>\n"
      ]
     },
     "metadata": {},
     "output_type": "display_data"
    }
   ],
   "source": [
    "import pandas as pd   \n",
    "from IPython.display import display_html \n",
    "\n",
    "\n",
    "df1_styler = df1.style.set_table_attributes(\"style='display:inline'\").set_caption('df1')\n",
    "df2_styler = df2.style.set_table_attributes(\"style='display:inline'\").set_caption('df2')\n",
    "df2_t_styler = df2.T.style.set_table_attributes(\"style='display:inline'\").set_caption('df2_t')\n",
    "\n",
    "display_html(df1_styler._repr_html_()+df2_styler._repr_html_(), raw=True)\n",
    "display_html(df1_styler._repr_html_()+df2_styler._repr_html_() +df2_t_styler._repr_html_(), raw=True)\n"
   ]
  },
  {
   "cell_type": "code",
   "execution_count": 6,
   "id": "32215658-0e40-4d58-a8e2-fc4e27bc1968",
   "metadata": {
    "execution": {
     "iopub.execute_input": "2022-11-05T23:43:30.443340Z",
     "iopub.status.busy": "2022-11-05T23:43:30.441968Z",
     "iopub.status.idle": "2022-11-05T23:43:30.452509Z",
     "shell.execute_reply": "2022-11-05T23:43:30.451680Z",
     "shell.execute_reply.started": "2022-11-05T23:43:30.443294Z"
    }
   },
   "outputs": [
    {
     "data": {
      "text/html": [
       "<style type=\"text/css\">\n",
       "</style>\n",
       "<table id=\"T_92875\" style='display:inline'>\n",
       "  <caption>df1</caption>\n",
       "  <thead>\n",
       "    <tr>\n",
       "      <th class=\"blank level0\" >&nbsp;</th>\n",
       "      <th id=\"T_92875_level0_col0\" class=\"col_heading level0 col0\" >lkey</th>\n",
       "      <th id=\"T_92875_level0_col1\" class=\"col_heading level0 col1\" >value</th>\n",
       "    </tr>\n",
       "  </thead>\n",
       "  <tbody>\n",
       "    <tr>\n",
       "      <th id=\"T_92875_level0_row0\" class=\"row_heading level0 row0\" >0</th>\n",
       "      <td id=\"T_92875_row0_col0\" class=\"data row0 col0\" >foo</td>\n",
       "      <td id=\"T_92875_row0_col1\" class=\"data row0 col1\" >1</td>\n",
       "    </tr>\n",
       "    <tr>\n",
       "      <th id=\"T_92875_level0_row1\" class=\"row_heading level0 row1\" >1</th>\n",
       "      <td id=\"T_92875_row1_col0\" class=\"data row1 col0\" >bar</td>\n",
       "      <td id=\"T_92875_row1_col1\" class=\"data row1 col1\" >2</td>\n",
       "    </tr>\n",
       "    <tr>\n",
       "      <th id=\"T_92875_level0_row2\" class=\"row_heading level0 row2\" >2</th>\n",
       "      <td id=\"T_92875_row2_col0\" class=\"data row2 col0\" >baz</td>\n",
       "      <td id=\"T_92875_row2_col1\" class=\"data row2 col1\" >3</td>\n",
       "    </tr>\n",
       "  </tbody>\n",
       "</table>\n",
       "<style type=\"text/css\">\n",
       "</style>\n",
       "<table id=\"T_2dda5\" style='display:inline'>\n",
       "  <caption>df2</caption>\n",
       "  <thead>\n",
       "    <tr>\n",
       "      <th class=\"blank level0\" >&nbsp;</th>\n",
       "      <th id=\"T_2dda5_level0_col0\" class=\"col_heading level0 col0\" >rkey</th>\n",
       "      <th id=\"T_2dda5_level0_col1\" class=\"col_heading level0 col1\" >value</th>\n",
       "    </tr>\n",
       "  </thead>\n",
       "  <tbody>\n",
       "    <tr>\n",
       "      <th id=\"T_2dda5_level0_row0\" class=\"row_heading level0 row0\" >0</th>\n",
       "      <td id=\"T_2dda5_row0_col0\" class=\"data row0 col0\" >foo</td>\n",
       "      <td id=\"T_2dda5_row0_col1\" class=\"data row0 col1\" >5</td>\n",
       "    </tr>\n",
       "    <tr>\n",
       "      <th id=\"T_2dda5_level0_row1\" class=\"row_heading level0 row1\" >1</th>\n",
       "      <td id=\"T_2dda5_row1_col0\" class=\"data row1 col0\" >bar</td>\n",
       "      <td id=\"T_2dda5_row1_col1\" class=\"data row1 col1\" >6</td>\n",
       "    </tr>\n",
       "    <tr>\n",
       "      <th id=\"T_2dda5_level0_row2\" class=\"row_heading level0 row2\" >2</th>\n",
       "      <td id=\"T_2dda5_row2_col0\" class=\"data row2 col0\" >baz</td>\n",
       "      <td id=\"T_2dda5_row2_col1\" class=\"data row2 col1\" >7</td>\n",
       "    </tr>\n",
       "  </tbody>\n",
       "</table>\n"
      ]
     },
     "metadata": {},
     "output_type": "display_data"
    }
   ],
   "source": [
    "df1_styler = df1.style.set_table_attributes(\"style='display:inline'\").set_caption('df1')\n",
    "df2_styler = df2.style.set_table_attributes(\"style='display:inline'\").set_caption('df2')\n",
    "\n",
    "display_html(df1_styler._repr_html_()+df2_styler._repr_html_(), raw=True)"
   ]
  },
  {
   "cell_type": "code",
   "execution_count": 17,
   "id": "80be476d-3cb3-4608-8da0-d1c2cafec6ac",
   "metadata": {
    "execution": {
     "iopub.execute_input": "2022-11-05T23:51:15.087716Z",
     "iopub.status.busy": "2022-11-05T23:51:15.087447Z",
     "iopub.status.idle": "2022-11-05T23:51:15.096820Z",
     "shell.execute_reply": "2022-11-05T23:51:15.095911Z",
     "shell.execute_reply.started": "2022-11-05T23:51:15.087696Z"
    },
    "tags": []
   },
   "outputs": [
    {
     "data": {
      "text/html": [
       "<style type=\"text/css\">\n",
       "</style>\n",
       "<table id=\"T_67227\" style='display:inline'>\n",
       "  <caption>confusion matrix</caption>\n",
       "  <thead>\n",
       "    <tr>\n",
       "      <th class=\"blank level0\" >&nbsp;</th>\n",
       "      <th id=\"T_67227_level0_col0\" class=\"col_heading level0 col0\" >lkey</th>\n",
       "      <th id=\"T_67227_level0_col1\" class=\"col_heading level0 col1\" >value</th>\n",
       "    </tr>\n",
       "  </thead>\n",
       "  <tbody>\n",
       "    <tr>\n",
       "      <th id=\"T_67227_level0_row0\" class=\"row_heading level0 row0\" >0</th>\n",
       "      <td id=\"T_67227_row0_col0\" class=\"data row0 col0\" >foo</td>\n",
       "      <td id=\"T_67227_row0_col1\" class=\"data row0 col1\" >1</td>\n",
       "    </tr>\n",
       "    <tr>\n",
       "      <th id=\"T_67227_level0_row1\" class=\"row_heading level0 row1\" >1</th>\n",
       "      <td id=\"T_67227_row1_col0\" class=\"data row1 col0\" >bar</td>\n",
       "      <td id=\"T_67227_row1_col1\" class=\"data row1 col1\" >2</td>\n",
       "    </tr>\n",
       "    <tr>\n",
       "      <th id=\"T_67227_level0_row2\" class=\"row_heading level0 row2\" >2</th>\n",
       "      <td id=\"T_67227_row2_col0\" class=\"data row2 col0\" >baz</td>\n",
       "      <td id=\"T_67227_row2_col1\" class=\"data row2 col1\" >3</td>\n",
       "    </tr>\n",
       "  </tbody>\n",
       "</table>\n",
       "               <style type=\"text/css\">\n",
       "</style>\n",
       "<table id=\"T_2b665\" style='display:inline'>\n",
       "  <caption>normalized confusion matrix</caption>\n",
       "  <thead>\n",
       "    <tr>\n",
       "      <th class=\"blank level0\" >&nbsp;</th>\n",
       "      <th id=\"T_2b665_level0_col0\" class=\"col_heading level0 col0\" >rkey</th>\n",
       "      <th id=\"T_2b665_level0_col1\" class=\"col_heading level0 col1\" >value</th>\n",
       "    </tr>\n",
       "  </thead>\n",
       "  <tbody>\n",
       "    <tr>\n",
       "      <th id=\"T_2b665_level0_row0\" class=\"row_heading level0 row0\" >0</th>\n",
       "      <td id=\"T_2b665_row0_col0\" class=\"data row0 col0\" >foo</td>\n",
       "      <td id=\"T_2b665_row0_col1\" class=\"data row0 col1\" >5</td>\n",
       "    </tr>\n",
       "    <tr>\n",
       "      <th id=\"T_2b665_level0_row1\" class=\"row_heading level0 row1\" >1</th>\n",
       "      <td id=\"T_2b665_row1_col0\" class=\"data row1 col0\" >bar</td>\n",
       "      <td id=\"T_2b665_row1_col1\" class=\"data row1 col1\" >6</td>\n",
       "    </tr>\n",
       "    <tr>\n",
       "      <th id=\"T_2b665_level0_row2\" class=\"row_heading level0 row2\" >2</th>\n",
       "      <td id=\"T_2b665_row2_col0\" class=\"data row2 col0\" >baz</td>\n",
       "      <td id=\"T_2b665_row2_col1\" class=\"data row2 col1\" >7</td>\n",
       "    </tr>\n",
       "  </tbody>\n",
       "</table>\n"
      ]
     },
     "metadata": {},
     "output_type": "display_data"
    },
    {
     "name": "stdout",
     "output_type": "stream",
     "text": [
      "\n",
      "something\n"
     ]
    }
   ],
   "source": [
    "df1_styler = df1.style.set_table_attributes(\"style='display:inline'\").set_caption('confusion matrix')\n",
    "df2_styler = df2.style.set_table_attributes(\"style='display:inline'\").set_caption('normalized confusion matrix').format(precision=2)\n",
    "\n",
    "space = \"\\xa0\" * 15\n",
    "display_html(df1_styler._repr_html_() + space  + df2_styler._repr_html_(), raw=True)\n",
    "\n",
    "print()\n",
    "print(\"something\")"
   ]
  },
  {
   "cell_type": "code",
   "execution_count": null,
   "id": "68484d75-3288-448e-91d1-1a04841a0f12",
   "metadata": {},
   "outputs": [],
   "source": []
  }
 ],
 "metadata": {
  "kernelspec": {
   "display_name": "sa",
   "language": "python",
   "name": "conda-env-sa-py"
  },
  "language_info": {
   "codemirror_mode": {
    "name": "ipython",
    "version": 3
   },
   "file_extension": ".py",
   "mimetype": "text/x-python",
   "name": "python",
   "nbconvert_exporter": "python",
   "pygments_lexer": "ipython3",
   "version": "3.8.13"
  },
  "widgets": {
   "application/vnd.jupyter.widget-state+json": {
    "state": {},
    "version_major": 2,
    "version_minor": 0
   }
  }
 },
 "nbformat": 4,
 "nbformat_minor": 5
}
